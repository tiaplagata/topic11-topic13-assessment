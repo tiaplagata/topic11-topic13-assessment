{
 "cells": [
  {
   "cell_type": "markdown",
   "metadata": {},
   "source": [
    "# Objectives\n",
    "YW\n",
    "* scrape a website for relevant information, store that information to a dataframe and save that dataframe as a csv file\n",
    "* load in a dataframe and do the following\n",
    "    * calculate the zscores of a given column\n",
    "    * calculate the zscores of a point from a given column in the dataframe\n",
    "    * calculate and plot the pmf and cdf of another column"
   ]
  },
  {
   "cell_type": "code",
   "execution_count": 111,
   "metadata": {},
   "outputs": [],
   "source": [
    "import requests\n",
    "from bs4 import BeautifulSoup\n",
    "import pandas as pd\n",
    "import numpy as np\n",
    "import scipy.stats as scs\n",
    "import collections\n",
    "import matplotlib.pyplot as plt\n",
    "%matplotlib inline\n",
    "plt.style.use('seaborn-darkgrid')"
   ]
  },
  {
   "cell_type": "markdown",
   "metadata": {},
   "source": [
    "# Part 1 - Webscraping\n",
    "* use the following url scrape the first page of results\n",
    "* for each item get the name of the item\n",
    "* store the names to a dataframe and save that dataframe to csv then display\n",
    "    * store the dataframe in the `data` folder in the repo\n",
    "    * name the file `part1.csv` and make sure that when you write it you set `index=False`\n",
    "* the head of the dataframe\n",
    "\n",
    "* it should match the following\n",
    "<img src=\"solutions/images/part1.png\"/>"
   ]
  },
  {
   "cell_type": "code",
   "execution_count": 51,
   "metadata": {},
   "outputs": [],
   "source": [
    "url = \"https://www.petsmart.com/dog/treats/dental-treats/#page_name=flyout&category=dog&cta=dentaltreat\""
   ]
  },
  {
   "cell_type": "code",
   "execution_count": 52,
   "metadata": {},
   "outputs": [],
   "source": [
    "# scrape the names of the items on the webpage above\n",
    "request = requests.get(url)"
   ]
  },
  {
   "cell_type": "code",
   "execution_count": 53,
   "metadata": {},
   "outputs": [],
   "source": [
    "soup = BeautifulSoup(request.content, 'html.parser')"
   ]
  },
  {
   "cell_type": "code",
   "execution_count": 69,
   "metadata": {},
   "outputs": [
    {
     "data": {
      "text/plain": [
       "['Greenies Regular Dental Dog Treats',\n",
       " 'Greenies Teenie Dental Dog Treats',\n",
       " 'Greenies Large Dental Dog Treats',\n",
       " 'Greenies Petite Dental Dog Treats',\n",
       " 'Authority<sup>®</sup> Dental &amp; DHA Stick Puppy Treats Parsley Mint - Gluten Free, Grain Free',\n",
       " 'WHIMZEES Brushzees Dental Dog Treat - Natural, Grain Free, 1 Count',\n",
       " 'Pedigree Dentastix Triple Action Dental Dog Treats - Variety Pack',\n",
       " 'Pedigree Dentastix Large Dog Treats',\n",
       " 'Pedigree Dentastix Large Dog Sticks',\n",
       " 'Authority<sup>®</sup> Dental &amp; DHA Rings Puppy Treats Parsley Mint - Gluten Free, Grain Free',\n",
       " 'WHIMZEES Veggie Sausage Dog Dental Treat - Natural, 1 Count',\n",
       " 'Pedigree Dentastix Small/Medium Dog Sticks',\n",
       " 'Pedigree Dentastix Triple Action Small Dog Treats - Fresh',\n",
       " 'Greenies Teenie Dog Dental Treats - Blueberry',\n",
       " 'WHIMZEES Variety Value Box Dental Dog Treat - Natural, Grain Free',\n",
       " 'Virbac<sup>®</sup> C.E.T.<sup>®</sup> VeggieDent<sup>®</sup> Tartar Control Dog Chews',\n",
       " 'Yummy Combs<sup>®</sup> Ingenious Flossing Dog Dental Treat - 1 Count',\n",
       " 'Pedigree Dentastix Mini Dog Sticks',\n",
       " 'Pedigree Dentastix Large Dog Sticks',\n",
       " 'Authority Dental &amp; Multivitamin Large Dog Treats Parsley Mint - Gluten Free, Grain Free',\n",
       " 'Ark Naturals<sup>®</sup> Brushless Toothpaste 4-in-1 Large Dog Dental Chews - 40+ lbs.',\n",
       " 'Ark Naturals<sup>®</sup> Brushless Toothpaste 4-in-1 Small Dog Dental Chews - 8-20 lbs.',\n",
       " 'Authority Dental &amp; Multivitamin Small Dog Treats Parsley Mint - Gluten Free, Grain Free',\n",
       " 'Authority<sup>®</sup> Dental &amp; Multivitamin Medium Dog Treats Parsley Mint - Gluten Free, Grain Free',\n",
       " 'Milk-Bone Brushing Chew Mini Dental Dog Treats',\n",
       " 'Authority Dental &amp; Multivitamin Parsley Mint Dog Treat Bites - Gluten Free, Grain Free',\n",
       " 'Milk-Bone Brushing Chews Large Dental Dog Treats',\n",
       " 'Greenies Teenie Dental Dog Treats - Fresh',\n",
       " 'WHIMZEES Hedgehog Dental Dog Treat - Natural, 1 Count',\n",
       " 'Greenies Regular Dog Dental Treats - Blueberry',\n",
       " 'WHIMZEES Alligator Dental Dog Treat - Natural, 1 Count',\n",
       " 'Pedigree Dentastix Dual Flavor Mini Dental Dog Treats',\n",
       " 'Greenies Petite Dental Dog Treats - Blueberry',\n",
       " 'WHIMZEES Stix Dental Dog Treat - Natural, 1 Count',\n",
       " 'WHIMZEES Brushzees Medium Dental Dog Treat - Natural, Grain Free',\n",
       " 'Authority<sup>®</sup> Dental &amp; DHA Rings X-Small Puppy Treats Parsley Mint- Gluten Free, Grain Free']"
      ]
     },
     "execution_count": 69,
     "metadata": {},
     "output_type": "execute_result"
    }
   ],
   "source": [
    "first_container = soup.findAll('div', class_ = 'product-name')\n",
    "product_names = []\n",
    "for i in range(len(first_container)):\n",
    "    prod_name = first_container[i].find('h3')\n",
    "    str_prod = str(prod_name)\n",
    "    product_names.append(str_prod.strip('<h3>').strip('</'))\n",
    "    \n",
    "product_names"
   ]
  },
  {
   "cell_type": "code",
   "execution_count": 70,
   "metadata": {},
   "outputs": [
    {
     "data": {
      "text/html": [
       "<div>\n",
       "<style scoped>\n",
       "    .dataframe tbody tr th:only-of-type {\n",
       "        vertical-align: middle;\n",
       "    }\n",
       "\n",
       "    .dataframe tbody tr th {\n",
       "        vertical-align: top;\n",
       "    }\n",
       "\n",
       "    .dataframe thead th {\n",
       "        text-align: right;\n",
       "    }\n",
       "</style>\n",
       "<table border=\"1\" class=\"dataframe\">\n",
       "  <thead>\n",
       "    <tr style=\"text-align: right;\">\n",
       "      <th></th>\n",
       "      <th>Product Name</th>\n",
       "    </tr>\n",
       "  </thead>\n",
       "  <tbody>\n",
       "    <tr>\n",
       "      <th>0</th>\n",
       "      <td>Greenies Regular Dental Dog Treats</td>\n",
       "    </tr>\n",
       "    <tr>\n",
       "      <th>1</th>\n",
       "      <td>Greenies Teenie Dental Dog Treats</td>\n",
       "    </tr>\n",
       "    <tr>\n",
       "      <th>2</th>\n",
       "      <td>Greenies Large Dental Dog Treats</td>\n",
       "    </tr>\n",
       "    <tr>\n",
       "      <th>3</th>\n",
       "      <td>Greenies Petite Dental Dog Treats</td>\n",
       "    </tr>\n",
       "    <tr>\n",
       "      <th>4</th>\n",
       "      <td>Authority&lt;sup&gt;®&lt;/sup&gt; Dental &amp;amp; DHA Stick P...</td>\n",
       "    </tr>\n",
       "    <tr>\n",
       "      <th>5</th>\n",
       "      <td>WHIMZEES Brushzees Dental Dog Treat - Natural,...</td>\n",
       "    </tr>\n",
       "    <tr>\n",
       "      <th>6</th>\n",
       "      <td>Pedigree Dentastix Triple Action Dental Dog Tr...</td>\n",
       "    </tr>\n",
       "    <tr>\n",
       "      <th>7</th>\n",
       "      <td>Pedigree Dentastix Large Dog Treats</td>\n",
       "    </tr>\n",
       "    <tr>\n",
       "      <th>8</th>\n",
       "      <td>Pedigree Dentastix Large Dog Sticks</td>\n",
       "    </tr>\n",
       "    <tr>\n",
       "      <th>9</th>\n",
       "      <td>Authority&lt;sup&gt;®&lt;/sup&gt; Dental &amp;amp; DHA Rings P...</td>\n",
       "    </tr>\n",
       "    <tr>\n",
       "      <th>10</th>\n",
       "      <td>WHIMZEES Veggie Sausage Dog Dental Treat - Nat...</td>\n",
       "    </tr>\n",
       "    <tr>\n",
       "      <th>11</th>\n",
       "      <td>Pedigree Dentastix Small/Medium Dog Sticks</td>\n",
       "    </tr>\n",
       "    <tr>\n",
       "      <th>12</th>\n",
       "      <td>Pedigree Dentastix Triple Action Small Dog Tre...</td>\n",
       "    </tr>\n",
       "    <tr>\n",
       "      <th>13</th>\n",
       "      <td>Greenies Teenie Dog Dental Treats - Blueberry</td>\n",
       "    </tr>\n",
       "    <tr>\n",
       "      <th>14</th>\n",
       "      <td>WHIMZEES Variety Value Box Dental Dog Treat - ...</td>\n",
       "    </tr>\n",
       "    <tr>\n",
       "      <th>15</th>\n",
       "      <td>Virbac&lt;sup&gt;®&lt;/sup&gt; C.E.T.&lt;sup&gt;®&lt;/sup&gt; VeggieDe...</td>\n",
       "    </tr>\n",
       "    <tr>\n",
       "      <th>16</th>\n",
       "      <td>Yummy Combs&lt;sup&gt;®&lt;/sup&gt; Ingenious Flossing Dog...</td>\n",
       "    </tr>\n",
       "    <tr>\n",
       "      <th>17</th>\n",
       "      <td>Pedigree Dentastix Mini Dog Sticks</td>\n",
       "    </tr>\n",
       "    <tr>\n",
       "      <th>18</th>\n",
       "      <td>Pedigree Dentastix Large Dog Sticks</td>\n",
       "    </tr>\n",
       "    <tr>\n",
       "      <th>19</th>\n",
       "      <td>Authority Dental &amp;amp; Multivitamin Large Dog ...</td>\n",
       "    </tr>\n",
       "    <tr>\n",
       "      <th>20</th>\n",
       "      <td>Ark Naturals&lt;sup&gt;®&lt;/sup&gt; Brushless Toothpaste ...</td>\n",
       "    </tr>\n",
       "    <tr>\n",
       "      <th>21</th>\n",
       "      <td>Ark Naturals&lt;sup&gt;®&lt;/sup&gt; Brushless Toothpaste ...</td>\n",
       "    </tr>\n",
       "    <tr>\n",
       "      <th>22</th>\n",
       "      <td>Authority Dental &amp;amp; Multivitamin Small Dog ...</td>\n",
       "    </tr>\n",
       "    <tr>\n",
       "      <th>23</th>\n",
       "      <td>Authority&lt;sup&gt;®&lt;/sup&gt; Dental &amp;amp; Multivitami...</td>\n",
       "    </tr>\n",
       "    <tr>\n",
       "      <th>24</th>\n",
       "      <td>Milk-Bone Brushing Chew Mini Dental Dog Treats</td>\n",
       "    </tr>\n",
       "    <tr>\n",
       "      <th>25</th>\n",
       "      <td>Authority Dental &amp;amp; Multivitamin Parsley Mi...</td>\n",
       "    </tr>\n",
       "    <tr>\n",
       "      <th>26</th>\n",
       "      <td>Milk-Bone Brushing Chews Large Dental Dog Treats</td>\n",
       "    </tr>\n",
       "    <tr>\n",
       "      <th>27</th>\n",
       "      <td>Greenies Teenie Dental Dog Treats - Fresh</td>\n",
       "    </tr>\n",
       "    <tr>\n",
       "      <th>28</th>\n",
       "      <td>WHIMZEES Hedgehog Dental Dog Treat - Natural, ...</td>\n",
       "    </tr>\n",
       "    <tr>\n",
       "      <th>29</th>\n",
       "      <td>Greenies Regular Dog Dental Treats - Blueberry</td>\n",
       "    </tr>\n",
       "    <tr>\n",
       "      <th>30</th>\n",
       "      <td>WHIMZEES Alligator Dental Dog Treat - Natural,...</td>\n",
       "    </tr>\n",
       "    <tr>\n",
       "      <th>31</th>\n",
       "      <td>Pedigree Dentastix Dual Flavor Mini Dental Dog...</td>\n",
       "    </tr>\n",
       "    <tr>\n",
       "      <th>32</th>\n",
       "      <td>Greenies Petite Dental Dog Treats - Blueberry</td>\n",
       "    </tr>\n",
       "    <tr>\n",
       "      <th>33</th>\n",
       "      <td>WHIMZEES Stix Dental Dog Treat - Natural, 1 Count</td>\n",
       "    </tr>\n",
       "    <tr>\n",
       "      <th>34</th>\n",
       "      <td>WHIMZEES Brushzees Medium Dental Dog Treat - N...</td>\n",
       "    </tr>\n",
       "    <tr>\n",
       "      <th>35</th>\n",
       "      <td>Authority&lt;sup&gt;®&lt;/sup&gt; Dental &amp;amp; DHA Rings X...</td>\n",
       "    </tr>\n",
       "  </tbody>\n",
       "</table>\n",
       "</div>"
      ],
      "text/plain": [
       "                                         Product Name\n",
       "0                  Greenies Regular Dental Dog Treats\n",
       "1                   Greenies Teenie Dental Dog Treats\n",
       "2                    Greenies Large Dental Dog Treats\n",
       "3                   Greenies Petite Dental Dog Treats\n",
       "4   Authority<sup>®</sup> Dental &amp; DHA Stick P...\n",
       "5   WHIMZEES Brushzees Dental Dog Treat - Natural,...\n",
       "6   Pedigree Dentastix Triple Action Dental Dog Tr...\n",
       "7                 Pedigree Dentastix Large Dog Treats\n",
       "8                 Pedigree Dentastix Large Dog Sticks\n",
       "9   Authority<sup>®</sup> Dental &amp; DHA Rings P...\n",
       "10  WHIMZEES Veggie Sausage Dog Dental Treat - Nat...\n",
       "11         Pedigree Dentastix Small/Medium Dog Sticks\n",
       "12  Pedigree Dentastix Triple Action Small Dog Tre...\n",
       "13      Greenies Teenie Dog Dental Treats - Blueberry\n",
       "14  WHIMZEES Variety Value Box Dental Dog Treat - ...\n",
       "15  Virbac<sup>®</sup> C.E.T.<sup>®</sup> VeggieDe...\n",
       "16  Yummy Combs<sup>®</sup> Ingenious Flossing Dog...\n",
       "17                 Pedigree Dentastix Mini Dog Sticks\n",
       "18                Pedigree Dentastix Large Dog Sticks\n",
       "19  Authority Dental &amp; Multivitamin Large Dog ...\n",
       "20  Ark Naturals<sup>®</sup> Brushless Toothpaste ...\n",
       "21  Ark Naturals<sup>®</sup> Brushless Toothpaste ...\n",
       "22  Authority Dental &amp; Multivitamin Small Dog ...\n",
       "23  Authority<sup>®</sup> Dental &amp; Multivitami...\n",
       "24     Milk-Bone Brushing Chew Mini Dental Dog Treats\n",
       "25  Authority Dental &amp; Multivitamin Parsley Mi...\n",
       "26   Milk-Bone Brushing Chews Large Dental Dog Treats\n",
       "27          Greenies Teenie Dental Dog Treats - Fresh\n",
       "28  WHIMZEES Hedgehog Dental Dog Treat - Natural, ...\n",
       "29     Greenies Regular Dog Dental Treats - Blueberry\n",
       "30  WHIMZEES Alligator Dental Dog Treat - Natural,...\n",
       "31  Pedigree Dentastix Dual Flavor Mini Dental Dog...\n",
       "32      Greenies Petite Dental Dog Treats - Blueberry\n",
       "33  WHIMZEES Stix Dental Dog Treat - Natural, 1 Count\n",
       "34  WHIMZEES Brushzees Medium Dental Dog Treat - N...\n",
       "35  Authority<sup>®</sup> Dental &amp; DHA Rings X..."
      ]
     },
     "execution_count": 70,
     "metadata": {},
     "output_type": "execute_result"
    }
   ],
   "source": [
    "# load the data into a dataframe file\n",
    "df_products = pd.DataFrame(product_names, columns=['Product Name'], dtype=object)\n",
    "df_products"
   ]
  },
  {
   "cell_type": "code",
   "execution_count": 71,
   "metadata": {},
   "outputs": [],
   "source": [
    "# save the data as a csv file\n",
    "df_products.to_csv('/Users/jordanrjohnson/DataScienceCourseMaterial/phase_2/topic11-topic13-assessment/data/part1.csv', index=False)"
   ]
  },
  {
   "cell_type": "code",
   "execution_count": 72,
   "metadata": {},
   "outputs": [
    {
     "data": {
      "text/html": [
       "<div>\n",
       "<style scoped>\n",
       "    .dataframe tbody tr th:only-of-type {\n",
       "        vertical-align: middle;\n",
       "    }\n",
       "\n",
       "    .dataframe tbody tr th {\n",
       "        vertical-align: top;\n",
       "    }\n",
       "\n",
       "    .dataframe thead th {\n",
       "        text-align: right;\n",
       "    }\n",
       "</style>\n",
       "<table border=\"1\" class=\"dataframe\">\n",
       "  <thead>\n",
       "    <tr style=\"text-align: right;\">\n",
       "      <th></th>\n",
       "      <th>Product Name</th>\n",
       "    </tr>\n",
       "  </thead>\n",
       "  <tbody>\n",
       "    <tr>\n",
       "      <th>0</th>\n",
       "      <td>Greenies Regular Dental Dog Treats</td>\n",
       "    </tr>\n",
       "    <tr>\n",
       "      <th>1</th>\n",
       "      <td>Greenies Teenie Dental Dog Treats</td>\n",
       "    </tr>\n",
       "    <tr>\n",
       "      <th>2</th>\n",
       "      <td>Greenies Large Dental Dog Treats</td>\n",
       "    </tr>\n",
       "    <tr>\n",
       "      <th>3</th>\n",
       "      <td>Greenies Petite Dental Dog Treats</td>\n",
       "    </tr>\n",
       "    <tr>\n",
       "      <th>4</th>\n",
       "      <td>Authority&lt;sup&gt;®&lt;/sup&gt; Dental &amp;amp; DHA Stick P...</td>\n",
       "    </tr>\n",
       "  </tbody>\n",
       "</table>\n",
       "</div>"
      ],
      "text/plain": [
       "                                        Product Name\n",
       "0                 Greenies Regular Dental Dog Treats\n",
       "1                  Greenies Teenie Dental Dog Treats\n",
       "2                   Greenies Large Dental Dog Treats\n",
       "3                  Greenies Petite Dental Dog Treats\n",
       "4  Authority<sup>®</sup> Dental &amp; DHA Stick P..."
      ]
     },
     "execution_count": 72,
     "metadata": {},
     "output_type": "execute_result"
    }
   ],
   "source": [
    "# display df.head()\n",
    "df_products.head()"
   ]
  },
  {
   "cell_type": "markdown",
   "metadata": {},
   "source": [
    "# Part 2\n",
    "\n",
    "load in the csv file located in the `data` folder called `part2.csv`\n",
    "\n",
    "create a function that calculates the zscores of an array\n",
    "\n",
    "then calculate the zscores for each column in part2.csv and add them as columns\n",
    "\n",
    "See below for final result\n",
    "\n",
    "<img src=\"solutions/images/part2_df_preview.png\"/>"
   ]
  },
  {
   "cell_type": "code",
   "execution_count": 74,
   "metadata": {},
   "outputs": [
    {
     "data": {
      "text/html": [
       "<div>\n",
       "<style scoped>\n",
       "    .dataframe tbody tr th:only-of-type {\n",
       "        vertical-align: middle;\n",
       "    }\n",
       "\n",
       "    .dataframe tbody tr th {\n",
       "        vertical-align: top;\n",
       "    }\n",
       "\n",
       "    .dataframe thead th {\n",
       "        text-align: right;\n",
       "    }\n",
       "</style>\n",
       "<table border=\"1\" class=\"dataframe\">\n",
       "  <thead>\n",
       "    <tr style=\"text-align: right;\">\n",
       "      <th></th>\n",
       "      <th>salaries</th>\n",
       "      <th>NPS Score</th>\n",
       "      <th>eventOutcome</th>\n",
       "    </tr>\n",
       "  </thead>\n",
       "  <tbody>\n",
       "    <tr>\n",
       "      <th>0</th>\n",
       "      <td>44112.0</td>\n",
       "      <td>-7.0</td>\n",
       "      <td>1</td>\n",
       "    </tr>\n",
       "    <tr>\n",
       "      <th>1</th>\n",
       "      <td>46777.0</td>\n",
       "      <td>-12.0</td>\n",
       "      <td>2</td>\n",
       "    </tr>\n",
       "    <tr>\n",
       "      <th>2</th>\n",
       "      <td>50013.0</td>\n",
       "      <td>50.0</td>\n",
       "      <td>5</td>\n",
       "    </tr>\n",
       "    <tr>\n",
       "      <th>3</th>\n",
       "      <td>48983.0</td>\n",
       "      <td>-13.0</td>\n",
       "      <td>0</td>\n",
       "    </tr>\n",
       "    <tr>\n",
       "      <th>4</th>\n",
       "      <td>50751.0</td>\n",
       "      <td>-11.0</td>\n",
       "      <td>6</td>\n",
       "    </tr>\n",
       "  </tbody>\n",
       "</table>\n",
       "</div>"
      ],
      "text/plain": [
       "   salaries  NPS Score  eventOutcome\n",
       "0   44112.0       -7.0             1\n",
       "1   46777.0      -12.0             2\n",
       "2   50013.0       50.0             5\n",
       "3   48983.0      -13.0             0\n",
       "4   50751.0      -11.0             6"
      ]
     },
     "execution_count": 74,
     "metadata": {},
     "output_type": "execute_result"
    }
   ],
   "source": [
    "# load in the dataframe, notice it only contains columns salaries, NPS Score, eventOutcome\n",
    "data = pd.read_csv('/Users/jordanrjohnson/DataScienceCourseMaterial/phase_2/topic11-topic13-assessment/data/part2.csv')\n",
    "data.head()"
   ]
  },
  {
   "cell_type": "code",
   "execution_count": 75,
   "metadata": {},
   "outputs": [],
   "source": [
    "def zscores(arr):\n",
    "    \"\"\"\n",
    "    write a function that calculates \n",
    "    the zscores of a numpy arr, arr.\n",
    "    \"\"\"\n",
    "    z_scores = []\n",
    "    mu = np.mean(arr)\n",
    "    sigma = np.std(arr)\n",
    "    for x in arr:\n",
    "        z_scores.append((x-mu)/sigma)\n",
    "    return np.array(z_scores)"
   ]
  },
  {
   "cell_type": "code",
   "execution_count": 85,
   "metadata": {},
   "outputs": [
    {
     "data": {
      "text/html": [
       "<div>\n",
       "<style scoped>\n",
       "    .dataframe tbody tr th:only-of-type {\n",
       "        vertical-align: middle;\n",
       "    }\n",
       "\n",
       "    .dataframe tbody tr th {\n",
       "        vertical-align: top;\n",
       "    }\n",
       "\n",
       "    .dataframe thead th {\n",
       "        text-align: right;\n",
       "    }\n",
       "</style>\n",
       "<table border=\"1\" class=\"dataframe\">\n",
       "  <thead>\n",
       "    <tr style=\"text-align: right;\">\n",
       "      <th></th>\n",
       "      <th>salaries</th>\n",
       "      <th>NPS Score</th>\n",
       "      <th>eventOutcome</th>\n",
       "      <th>salaries_zscores</th>\n",
       "      <th>NPS Score_zscores</th>\n",
       "      <th>eventOutcome_zscores</th>\n",
       "    </tr>\n",
       "  </thead>\n",
       "  <tbody>\n",
       "    <tr>\n",
       "      <th>0</th>\n",
       "      <td>44112.0</td>\n",
       "      <td>-7.0</td>\n",
       "      <td>1</td>\n",
       "      <td>-1.460301</td>\n",
       "      <td>-0.913613</td>\n",
       "      <td>-1.103276</td>\n",
       "    </tr>\n",
       "    <tr>\n",
       "      <th>1</th>\n",
       "      <td>46777.0</td>\n",
       "      <td>-12.0</td>\n",
       "      <td>2</td>\n",
       "      <td>-0.794061</td>\n",
       "      <td>-1.080776</td>\n",
       "      <td>-0.668162</td>\n",
       "    </tr>\n",
       "    <tr>\n",
       "      <th>2</th>\n",
       "      <td>50013.0</td>\n",
       "      <td>50.0</td>\n",
       "      <td>5</td>\n",
       "      <td>0.014927</td>\n",
       "      <td>0.992046</td>\n",
       "      <td>0.637182</td>\n",
       "    </tr>\n",
       "    <tr>\n",
       "      <th>3</th>\n",
       "      <td>48983.0</td>\n",
       "      <td>-13.0</td>\n",
       "      <td>0</td>\n",
       "      <td>-0.242569</td>\n",
       "      <td>-1.114209</td>\n",
       "      <td>-1.538391</td>\n",
       "    </tr>\n",
       "    <tr>\n",
       "      <th>4</th>\n",
       "      <td>50751.0</td>\n",
       "      <td>-11.0</td>\n",
       "      <td>6</td>\n",
       "      <td>0.199425</td>\n",
       "      <td>-1.047343</td>\n",
       "      <td>1.072296</td>\n",
       "    </tr>\n",
       "  </tbody>\n",
       "</table>\n",
       "</div>"
      ],
      "text/plain": [
       "   salaries  NPS Score  eventOutcome  salaries_zscores  NPS Score_zscores  \\\n",
       "0   44112.0       -7.0             1         -1.460301          -0.913613   \n",
       "1   46777.0      -12.0             2         -0.794061          -1.080776   \n",
       "2   50013.0       50.0             5          0.014927           0.992046   \n",
       "3   48983.0      -13.0             0         -0.242569          -1.114209   \n",
       "4   50751.0      -11.0             6          0.199425          -1.047343   \n",
       "\n",
       "   eventOutcome_zscores  \n",
       "0             -1.103276  \n",
       "1             -0.668162  \n",
       "2              0.637182  \n",
       "3             -1.538391  \n",
       "4              1.072296  "
      ]
     },
     "execution_count": 85,
     "metadata": {},
     "output_type": "execute_result"
    }
   ],
   "source": [
    "# calculate the zscore for each column and store them as a new column with the names used above\n",
    "\n",
    "# Could use a for loop for this, but there are only 3 columns...\n",
    "data['salaries_zscores'] = zscores(data['salaries'])\n",
    "data['NPS Score_zscores'] = zscores(data['NPS Score'])\n",
    "data['eventOutcome_zscores'] = zscores(data['eventOutcome'])\n",
    "\n",
    "data.head()"
   ]
  },
  {
   "cell_type": "markdown",
   "metadata": {},
   "source": [
    "# Part 3 \n",
    "plot 'salaries' and 'NPS Score' on a subplot (1 row 2 columns) \n",
    "then repeat this for the zscores\n",
    "\n",
    "see image below for reference\n",
    "<img src=\"solutions/images/part2-plots.png\"/>"
   ]
  },
  {
   "cell_type": "code",
   "execution_count": 108,
   "metadata": {},
   "outputs": [
    {
     "data": {
      "image/png": "[encoded data removed]",
      "text/plain": [
       "<Figure size 1296x432 with 2 Axes>"
      ]
     },
     "metadata": {},
     "output_type": "display_data"
    }
   ],
   "source": [
    "# plot for raw salaries and NPS Score data goes here\n",
    "fig, (ax1, ax2) = plt.subplots(1, 2, figsize=(18, 6))\n",
    "\n",
    "ax1.hist(x=data['salaries'], bins=10)\n",
    "ax1.set_title('salaries')\n",
    "ax1.set_xlabel('salaries')\n",
    "ax1.set_ylabel('Frequency')\n",
    "\n",
    "ax2.hist(x=data['NPS Score'], bins=10)\n",
    "ax2.set_title('NPS Score')\n",
    "ax2.set_xlabel('NPS Scores')\n",
    "ax2.set_ylabel('Frequency')\n",
    "\n",
    "plt.show()"
   ]
  },
  {
   "cell_type": "code",
   "execution_count": 109,
   "metadata": {},
   "outputs": [
    {
     "data": {
      "image/png": "[encoded data removed]",
      "text/plain": [
       "<Figure size 1296x432 with 2 Axes>"
      ]
     },
     "metadata": {},
     "output_type": "display_data"
    }
   ],
   "source": [
    "# plot for zscores for salaries and NPS Score data goes here\n",
    "fig, (ax1, ax2) = plt.subplots(1, 2, figsize=(18, 6))\n",
    "\n",
    "ax1.hist(x=data['salaries_zscores'], bins=10)\n",
    "ax1.set_title('Salaries z-Scores')\n",
    "ax1.set_xlabel('salaries_zscores')\n",
    "ax1.set_ylabel('Frequency')\n",
    "\n",
    "ax2.hist(x=data['NPS Score_zscores'], bins=10)\n",
    "ax2.set_title('NPS Score z-Scores')\n",
    "ax2.set_xlabel('NPS Scores_zscores')\n",
    "ax2.set_ylabel('Frequency')\n",
    "\n",
    "plt.show()"
   ]
  },
  {
   "cell_type": "markdown",
   "metadata": {},
   "source": [
    "# Part 4 - PMF\n",
    "using the column 'eventOutcomes'\n",
    "\n",
    "create a PMF and plot the PMF as a bar chart\n",
    "\n",
    "See image below for referenc\n",
    "\n",
    "<img src=\"solutions/images/part4_pmf.png\"/>"
   ]
  },
  {
   "cell_type": "code",
   "execution_count": 142,
   "metadata": {},
   "outputs": [
    {
     "name": "stdout",
     "output_type": "stream",
     "text": [
      "[0, 1, 2, 3, 4, 5, 6, 7]\n",
      "[0.12, 0.12, 0.12, 0.12, 0.12, 0.13, 0.13, 0.13]\n"
     ]
    }
   ],
   "source": [
    "counter = collections.Counter(data['eventOutcome'])\n",
    "length = len(data['eventOutcome'])\n",
    "\n",
    "pmf = []\n",
    "for key, val in counter.items():\n",
    "    pmf.append(round(val/length, 2))\n",
    "\n",
    "outcomes = sorted(counter.keys())\n",
    "\n",
    "print(outcomes)\n",
    "print(pmf)"
   ]
  },
  {
   "cell_type": "code",
   "execution_count": 143,
   "metadata": {},
   "outputs": [
    {
     "data": {
      "image/png": "[encoded data removed]",
      "text/plain": [
       "<Figure size 720x432 with 1 Axes>"
      ]
     },
     "metadata": {},
     "output_type": "display_data"
    }
   ],
   "source": [
    "plt.figure(figsize=(10,6))\n",
    "plt.bar(outcomes, pmf)\n",
    "plt.title('PMF of Event Outcomes')\n",
    "plt.ylim(0, 0.14)\n",
    "plt.ylabel('Probability')\n",
    "plt.xlabel('Event Outcome')\n",
    "plt.show()"
   ]
  },
  {
   "cell_type": "markdown",
   "metadata": {},
   "source": [
    "# Part 5 - CDF\n",
    "plot the CDF of Event Outcomes as a scatter plot using the information above\n",
    "\n",
    "See image below for reference \n",
    "\n",
    "<img src=\"solutions/images/part5_cmf.png\"/>"
   ]
  },
  {
   "cell_type": "code",
   "execution_count": 141,
   "metadata": {},
   "outputs": [
    {
     "data": {
      "text/plain": [
       "[0.12, 0.24, 0.36, 0.48, 0.6, 0.73, 0.86, 0.99]"
      ]
     },
     "execution_count": 141,
     "metadata": {},
     "output_type": "execute_result"
    }
   ],
   "source": [
    "cdf = np.cumsum(pmf)\n",
    "cdf_sorted = sorted(cdf)\n",
    "cdf_sorted"
   ]
  },
  {
   "cell_type": "code",
   "execution_count": 144,
   "metadata": {},
   "outputs": [
    {
     "data": {
      "image/png": "[encoded data removed]",
      "text/plain": [
       "<Figure size 720x432 with 1 Axes>"
      ]
     },
     "metadata": {},
     "output_type": "display_data"
    }
   ],
   "source": [
    "plt.figure(figsize=(10,6))\n",
    "plt.scatter(outcomes, cdf_sorted)\n",
    "plt.title('CDF of Event Outcomes')\n",
    "plt.ylabel('Cumulative Probability')\n",
    "plt.xlabel('Event Outcome')\n",
    "plt.show()"
   ]
  },
  {
   "cell_type": "markdown",
   "metadata": {},
   "source": [
    "# Level Up:\n",
    "* using np.where find salaries with zscores <= -2.0\n",
    "\n",
    "* calculate the skewness and kurtosis for the NPS Score column\n",
    "\n",
    "* plot the pdf and cdf of a given distribution"
   ]
  },
  {
   "cell_type": "code",
   "execution_count": 163,
   "metadata": {},
   "outputs": [
    {
     "data": {
      "text/plain": [
       "[0       44112.0\n",
       " 1       46777.0\n",
       " 2       50013.0\n",
       " 3       48983.0\n",
       " 4       50751.0\n",
       "          ...   \n",
       " 4995    50580.0\n",
       " 4996    54526.0\n",
       " 4997    46135.0\n",
       " 4998    47223.0\n",
       " 4999    47913.0\n",
       " Name: salaries, Length: 4881, dtype: float64]"
      ]
     },
     "execution_count": 163,
     "metadata": {},
     "output_type": "execute_result"
    }
   ],
   "source": [
    "# find salaries with zscores <= 2.0 \n",
    "index_sal = np.where(data['salaries_zscores'] <= 2)\n",
    "salariesz_2_and_under = []\n",
    "\n",
    "for index in index_sal:\n",
    "    salariesz_2_and_under.append(data['salaries'][index])\n",
    "\n",
    "salariesz_2_and_under"
   ]
  },
  {
   "cell_type": "code",
   "execution_count": 156,
   "metadata": {},
   "outputs": [
    {
     "name": "stdout",
     "output_type": "stream",
     "text": [
      "Skewness: 0.02450527688165853\n",
      "NPS Scores are slightly skewed to the right.\n",
      "Kurtosis: -0.04212714461681033\n",
      "NPS Scores have a Platykurtic distribution, indicating light tails and fewer outliers than a normal distribution\n"
     ]
    }
   ],
   "source": [
    "# calculate skewness and kurtosis of NPS Score column\n",
    "skewness = scs.skew(data['NPS Score_zscores'])\n",
    "kurtosis = scs.kurtosis(data['NPS Score_zscores'])\n",
    "\n",
    "print('Skewness:', skewness)\n",
    "print('NPS Scores are slightly skewed to the right.')\n",
    "print('Kurtosis:', kurtosis)\n",
    "print('NPS Scores have a Platykurtic distribution, indicating light tails and fewer outliers than a normal distribution')"
   ]
  },
  {
   "cell_type": "markdown",
   "metadata": {},
   "source": [
    "# Plotting a pdf and cdf of a normal distribution\n",
    "A survey is taken that finds that students send an mean average of 80 DMs a day with a standard deviation of 6 DMS. "
   ]
  },
  {
   "cell_type": "code",
   "execution_count": 158,
   "metadata": {},
   "outputs": [
    {
     "data": {
      "image/png": "[encoded data removed]",
      "text/plain": [
       "<Figure size 1296x432 with 2 Axes>"
      ]
     },
     "metadata": {},
     "output_type": "display_data"
    }
   ],
   "source": [
    "# plot the pdf and cdf of this normal distribution. level up if you can do it in subplots\n",
    "norm_dist = scs.norm(loc=80, scale=6)\n",
    "xaxis = np.linspace(norm_dist.ppf(0.01), norm_dist.ppf(.99), 100)\n",
    "probs = norm_dist.pdf(xaxis)\n",
    "cum_probs = norm_dist.cdf(xaxis)\n",
    "\n",
    "fig, (ax1, ax2) = plt.subplots(1, 2, figsize=(18, 6))\n",
    "\n",
    "ax1.bar(xaxis, probs)\n",
    "ax1.set_title('PDF of DMs')\n",
    "ax1.set_xlabel('DMs')\n",
    "ax1.set_ylabel('Frequency')\n",
    "\n",
    "ax2.bar(xaxis, cum_probs)\n",
    "ax2.set_title('CDF of DMs')\n",
    "ax2.set_xlabel('DMs')\n",
    "ax2.set_ylabel('Cumulative Probability')\n",
    "\n",
    "plt.show()"
   ]
  },
  {
   "cell_type": "code",
   "execution_count": 159,
   "metadata": {},
   "outputs": [
    {
     "data": {
      "text/plain": [
       "0.36944134018176367"
      ]
     },
     "execution_count": 159,
     "metadata": {},
     "output_type": "execute_result"
    }
   ],
   "source": [
    "# what is the probability of drawing a student that sends at least 82 DMs a day?\n",
    "prob_82 = 1- norm_dist.cdf(82)\n",
    "prob_82"
   ]
  },
  {
   "cell_type": "markdown",
   "metadata": {},
   "source": [
    "A second survey is taken at another bootcamp that shows that students send a mean average of\n",
    "80 DMs a day, but they have a standard deviation of 9 DMS.  "
   ]
  },
  {
   "cell_type": "code",
   "execution_count": 160,
   "metadata": {},
   "outputs": [
    {
     "data": {
      "text/plain": [
       "0.32165098790894897"
      ]
     },
     "execution_count": 160,
     "metadata": {},
     "output_type": "execute_result"
    }
   ],
   "source": [
    "# What is the difference in the probability of finding a student that sends, at most, 65 DMs a day? \n",
    "norm_dist2 = scs.norm(loc=80, scale=9)\n",
    "prob_difference = prob_82 - (norm_dist2.cdf(65))\n",
    "prob_difference"
   ]
  },
  {
   "cell_type": "markdown",
   "metadata": {},
   "source": [
    "# run the cell below to convert your notebook to a README for assessment"
   ]
  },
  {
   "cell_type": "code",
   "execution_count": 164,
   "metadata": {},
   "outputs": [
    {
     "name": "stdout",
     "output_type": "stream",
     "text": [
      "[NbConvertApp] Converting notebook assessment.ipynb to markdown\n",
      "[NbConvertApp] Support files will be in assessment_files/\n",
      "[NbConvertApp] Making directory assessment_files\n",
      "[NbConvertApp] Making directory assessment_files\n",
      "[NbConvertApp] Making directory assessment_files\n",
      "[NbConvertApp] Making directory assessment_files\n",
      "[NbConvertApp] Making directory assessment_files\n",
      "[NbConvertApp] Writing 18242 bytes to assessment.md\n"
     ]
    }
   ],
   "source": [
    "!jupyter nbconvert --to markdown assessment.ipynb && mv assessment.md README.md"
   ]
  },
  {
   "cell_type": "code",
   "execution_count": null,
   "metadata": {},
   "outputs": [],
   "source": []
  }
 ],
 "metadata": {
  "kernelspec": {
   "display_name": "learn-env",
   "language": "python",
   "name": "learn-env"
  },
  "language_info": {
   "codemirror_mode": {
    "name": "ipython",
    "version": 3
   },
   "file_extension": ".py",
   "mimetype": "text/x-python",
   "name": "python",
   "nbconvert_exporter": "python",
   "pygments_lexer": "ipython3",
   "version": "3.6.9"
  }
 },
 "nbformat": 4,
 "nbformat_minor": 2
}
